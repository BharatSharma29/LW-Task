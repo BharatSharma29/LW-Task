{
 "cells": [
  {
   "cell_type": "code",
   "execution_count": 13,
   "id": "d5cb7137",
   "metadata": {},
   "outputs": [],
   "source": [
    "import cv2"
   ]
  },
  {
   "cell_type": "code",
   "execution_count": 14,
   "id": "90a206ee",
   "metadata": {},
   "outputs": [],
   "source": [
    "import numpy as n"
   ]
  },
  {
   "cell_type": "code",
   "execution_count": 15,
   "id": "64ca60cc",
   "metadata": {},
   "outputs": [],
   "source": [
    "img = n.zeros((500,500,3))"
   ]
  },
  {
   "cell_type": "code",
   "execution_count": 16,
   "id": "c8a30cbc",
   "metadata": {},
   "outputs": [],
   "source": [
    "i=0\n",
    "b=255\n",
    "g=255\n",
    "r=255\n",
    "for x in range(1,10):\n",
    "    i=25*x\n",
    "    if x%3==0:\n",
    "        g=0\n",
    "        r=0\n",
    "    elif x%3==1:\n",
    "        b=0\n",
    "        r=0\n",
    "    else:\n",
    "        b=0\n",
    "        g=0\n",
    "    img[0+i:500-i, 0+i:500-i]=[b,g,r]\n",
    "    b=255\n",
    "    g=255\n",
    "    r=255"
   ]
  },
  {
   "cell_type": "code",
   "execution_count": 17,
   "id": "fab97dd4",
   "metadata": {},
   "outputs": [],
   "source": [
    "cv2.imshow(\"n\",img)\n",
    "cv2.waitKey()\n",
    "cv2.destroyAllWindows()"
   ]
  },
  {
   "cell_type": "code",
   "execution_count": null,
   "id": "d886120d",
   "metadata": {},
   "outputs": [],
   "source": []
  }
 ],
 "metadata": {
  "kernelspec": {
   "display_name": "Python 3",
   "language": "python",
   "name": "python3"
  },
  "language_info": {
   "codemirror_mode": {
    "name": "ipython",
    "version": 3
   },
   "file_extension": ".py",
   "mimetype": "text/x-python",
   "name": "python",
   "nbconvert_exporter": "python",
   "pygments_lexer": "ipython3",
   "version": "3.8.8"
  }
 },
 "nbformat": 4,
 "nbformat_minor": 5
}
