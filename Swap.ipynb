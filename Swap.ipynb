{
 "cells": [
  {
   "cell_type": "code",
   "execution_count": 19,
   "id": "8f459f97",
   "metadata": {},
   "outputs": [],
   "source": [
    "import cv2"
   ]
  },
  {
   "cell_type": "code",
   "execution_count": 20,
   "id": "fde3d161",
   "metadata": {},
   "outputs": [],
   "source": [
    "pic1 = cv2.imread(\"prof.png\")"
   ]
  },
  {
   "cell_type": "code",
   "execution_count": 21,
   "id": "ddf0fe7c",
   "metadata": {},
   "outputs": [],
   "source": [
    "cv2.imshow(\"prof\",pic1)\n",
    "cv2.waitKey()\n",
    "cv2.destroyAllWindows()"
   ]
  },
  {
   "cell_type": "code",
   "execution_count": 22,
   "id": "ae771a89",
   "metadata": {},
   "outputs": [
    {
     "data": {
      "text/plain": [
       "(500, 411, 3)"
      ]
     },
     "execution_count": 22,
     "metadata": {},
     "output_type": "execute_result"
    }
   ],
   "source": [
    "pic1.shape\n"
   ]
  },
  {
   "cell_type": "code",
   "execution_count": 23,
   "id": "6c57d7a8",
   "metadata": {},
   "outputs": [],
   "source": [
    "pic2 = cv2.imread(\"mask.png\")"
   ]
  },
  {
   "cell_type": "code",
   "execution_count": 24,
   "id": "c545b93d",
   "metadata": {},
   "outputs": [],
   "source": [
    "cv2.imshow(\"mask\",pic2)\n",
    "cv2.waitKey()\n",
    "cv2.destroyAllWindows()"
   ]
  },
  {
   "cell_type": "code",
   "execution_count": 25,
   "id": "3a846b94",
   "metadata": {},
   "outputs": [
    {
     "data": {
      "text/plain": [
       "(500, 411, 3)"
      ]
     },
     "execution_count": 25,
     "metadata": {},
     "output_type": "execute_result"
    }
   ],
   "source": [
    "pic2.shape"
   ]
  },
  {
   "cell_type": "code",
   "execution_count": 26,
   "id": "bedba4e3",
   "metadata": {},
   "outputs": [],
   "source": [
    "pic1[:500, 205:411]=pic2[:500, 205:411]"
   ]
  },
  {
   "cell_type": "code",
   "execution_count": 27,
   "id": "293a5970",
   "metadata": {},
   "outputs": [],
   "source": [
    "cv2.imshow(\"Swap\",pic1)\n",
    "cv2.waitKey()\n",
    "cv2.destroyAllWindows()"
   ]
  },
  {
   "cell_type": "code",
   "execution_count": 14,
   "id": "cd68f49e",
   "metadata": {},
   "outputs": [],
   "source": []
  },
  {
   "cell_type": "code",
   "execution_count": 15,
   "id": "dc8539c2",
   "metadata": {},
   "outputs": [],
   "source": []
  },
  {
   "cell_type": "code",
   "execution_count": null,
   "id": "3b028063",
   "metadata": {},
   "outputs": [],
   "source": []
  }
 ],
 "metadata": {
  "kernelspec": {
   "display_name": "Python 3",
   "language": "python",
   "name": "python3"
  },
  "language_info": {
   "codemirror_mode": {
    "name": "ipython",
    "version": 3
   },
   "file_extension": ".py",
   "mimetype": "text/x-python",
   "name": "python",
   "nbconvert_exporter": "python",
   "pygments_lexer": "ipython3",
   "version": "3.8.8"
  }
 },
 "nbformat": 4,
 "nbformat_minor": 5
}
