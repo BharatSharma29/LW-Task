{
 "cells": [
  {
   "cell_type": "code",
   "execution_count": 17,
   "id": "a9913247",
   "metadata": {},
   "outputs": [],
   "source": [
    "import cv2"
   ]
  },
  {
   "cell_type": "code",
   "execution_count": 18,
   "id": "2833d86a",
   "metadata": {},
   "outputs": [],
   "source": [
    "pic1 = cv2.imread(\"photo1.png\")"
   ]
  },
  {
   "cell_type": "code",
   "execution_count": 19,
   "id": "8a1d1072",
   "metadata": {},
   "outputs": [],
   "source": [
    "cv2.imshow(\"Pic1\",pic1)\n",
    "cv2.waitKey()\n",
    "cv2.destroyAllWindows()"
   ]
  },
  {
   "cell_type": "code",
   "execution_count": 20,
   "id": "23bc5ac0",
   "metadata": {},
   "outputs": [],
   "source": [
    "pic2 = cv2.imread(\"photo2.png\")"
   ]
  },
  {
   "cell_type": "code",
   "execution_count": 21,
   "id": "4d6dcd4b",
   "metadata": {},
   "outputs": [],
   "source": [
    "cv2.imshow(\"Pic2\",pic2)\n",
    "cv2.waitKey()\n",
    "cv2.destroyAllWindows()"
   ]
  },
  {
   "cell_type": "code",
   "execution_count": 22,
   "id": "a143d709",
   "metadata": {},
   "outputs": [],
   "source": [
    "import numpy"
   ]
  },
  {
   "cell_type": "code",
   "execution_count": 23,
   "id": "42acaf6d",
   "metadata": {},
   "outputs": [],
   "source": [
    "pic = numpy.hstack((pic1,pic2))"
   ]
  },
  {
   "cell_type": "code",
   "execution_count": 24,
   "id": "3ab2ca6c",
   "metadata": {},
   "outputs": [],
   "source": [
    "cv2.imshow(\"Pic\",pic)\n",
    "cv2.waitKey()\n",
    "cv2.destroyAllWindows()"
   ]
  },
  {
   "cell_type": "code",
   "execution_count": null,
   "id": "dc825d16",
   "metadata": {},
   "outputs": [],
   "source": []
  }
 ],
 "metadata": {
  "kernelspec": {
   "display_name": "Python 3",
   "language": "python",
   "name": "python3"
  },
  "language_info": {
   "codemirror_mode": {
    "name": "ipython",
    "version": 3
   },
   "file_extension": ".py",
   "mimetype": "text/x-python",
   "name": "python",
   "nbconvert_exporter": "python",
   "pygments_lexer": "ipython3",
   "version": "3.8.8"
  }
 },
 "nbformat": 4,
 "nbformat_minor": 5
}
